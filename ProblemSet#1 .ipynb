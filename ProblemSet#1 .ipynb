{
 "cells": [
  {
   "cell_type": "markdown",
   "id": "a1cc2c78",
   "metadata": {},
   "source": [
    "1. What data type is each of the following?\n",
    "\n",
    "5                =  int\n",
    "5.0              =  double\n",
    "5 > 1            =  bool\n",
    "'5'              =  char\n",
    "5 * 2            =  int\n",
    "'5' * 2          =  int\n",
    "'5' + '2'        =  int\n",
    "5 / 2            =  int\n",
    "5 % 2            =  int\n",
    "{5, 2, 1}        =  array(int)\n",
    "5 == 3           =  bool\n",
    "Pi (the number)  =  double"
   ]
  },
  {
   "cell_type": "markdown",
   "id": "d3876f4b",
   "metadata": {},
   "source": [
    "2. Write (and evaluate) C# expressions that answer these questions:\n",
    "a. How many letters are there in 'Supercalifragilisticexpialidocious'?\n",
    "b. Does 'Supercalifragilisticexpialidocious' contain 'ice' as a substring?\n",
    "c. Which of the following words is the longest:\n",
    "Supercalifragilisticexpialidocious, Honorificabilitudinitatibus, or\n",
    "Bababadalgharaghtakamminarronnkonn?\n",
    "d. Which composer comes first in the dictionary: 'Berlioz', 'Borodin', 'Brian',\n",
    "'Bartok', 'Bellini', 'Buxtehude', 'Bernstein'. Which one comes last?\n"
   ]
  },
  {
   "cell_type": "code",
   "execution_count": 1,
   "id": "9d54438d",
   "metadata": {},
   "outputs": [
    {
     "name": "stdout",
     "output_type": "stream",
     "text": [
      "34\r\n"
     ]
    }
   ],
   "source": [
    "//a. How many letters are there in 'Supercalifragilisticexpialidocious'?\n",
    "\n",
    "string word = \"Supercalifragilisticexpialidocious\";\n",
    "int count = word.Length;\n",
    "Console.WriteLine(count);"
   ]
  },
  {
   "cell_type": "code",
   "execution_count": 2,
   "id": "d7293f9e",
   "metadata": {},
   "outputs": [
    {
     "name": "stdout",
     "output_type": "stream",
     "text": [
      "True\r\n"
     ]
    }
   ],
   "source": [
    "//b. Does 'Supercalifragilisticexpialidocious' contain 'ice' as a substring?\n",
    "\n",
    "string word = \"Supercalifragilisticexpialidocious\";\n",
    "bool substring = word.Contains(\"ice\");\n",
    "Console.WriteLine(substring);"
   ]
  },
  {
   "cell_type": "code",
   "execution_count": 3,
   "id": "a8c42ace",
   "metadata": {},
   "outputs": [
    {
     "name": "stdout",
     "output_type": "stream",
     "text": [
      "Supercalifragilisticexpialidocious\r\n"
     ]
    }
   ],
   "source": [
    "//c. Which of the following words is the longest:\n",
    "\n",
    "string word1 = \"Supercalifragilisticexpialidocious\";\n",
    "string word2 = \"Honorificabilitudinitatibus\";\n",
    "string word3 = \"Bababadalgharaghtakamminarronnkonn\";\n",
    "\n",
    "string longest = \"\";\n",
    "if (word1.Length >= word2.Length && word1.Length >= word3.Length)\n",
    "{\n",
    "    longest = word1;\n",
    "}\n",
    "else if (word2.Length > word1.Length && word2.Length > word3.Length)\n",
    "{\n",
    "    longest = word2;\n",
    "}\n",
    "else\n",
    "{\n",
    "    longest = word3;\n",
    "}\n",
    "\n",
    "Console.WriteLine(longest);\n"
   ]
  },
  {
   "cell_type": "code",
   "execution_count": 4,
   "id": "727c9d42",
   "metadata": {},
   "outputs": [
    {
     "name": "stdout",
     "output_type": "stream",
     "text": [
      "First Composer: Bartok\n",
      "Last Composer: Buxtehude\n"
     ]
    }
   ],
   "source": [
    "//d. Which composer comes first in the dictionary: 'Berlioz', 'Borodin', 'Brian',\n",
    "//'Bartok', 'Bellini', 'Buxtehude', 'Bernstein'. Which one comes last?\n",
    "\n",
    "string[] composers = { \"Berlioz\", \"Borodin\", \"Brian\", \"Bartok\", \"Bellini\", \"Buxtehude\", \"Bernstein\" };\n",
    "\n",
    "Array.Sort(composers);\n",
    "\n",
    "Console.WriteLine(\"First Composer: \" + composers[0]);\n",
    "Console.WriteLine(\"Last Composer: \" + composers[composers.Length - 1]);\n"
   ]
  },
  {
   "cell_type": "markdown",
   "id": "39a00d8e",
   "metadata": {},
   "source": [
    "3. Implement function triangleArea(a,b,c) that takes as input the lengths of the 3 sides of a triangle and returns the area of the triangle. By Heron's formula, the area of a triangle with side lengths a, b, and c is s(s − a)(s −b)(s −c), where s = (a + b + c)/2. \n",
    ">>> triangleArea(2,2,2)\n",
    "1.7320508075688772\n"
   ]
  },
  {
   "cell_type": "code",
   "execution_count": 5,
   "id": "2563bff0",
   "metadata": {},
   "outputs": [
    {
     "name": "stdout",
     "output_type": "stream",
     "text": [
      "1.7320508075688772\r\n"
     ]
    }
   ],
   "source": [
    "public static double TriangleArea(double a, double b, double c)\n",
    "{\n",
    "    double s = (a + b + c) / 2;\n",
    "    double area = Math.Sqrt(s * (s - a) * (s - b) * (s - c));\n",
    "    return area;\n",
    "}\n",
    "double area = TriangleArea(2, 2, 2);\n",
    "Console.WriteLine(area);"
   ]
  },
  {
   "cell_type": "markdown",
   "id": "06753371",
   "metadata": {},
   "source": [
    "4. Write a program in C# Sharp to separate odd and even integers in separate arrays. \n",
    "Go to the editor\n",
    "Test Data :\n",
    "Input the number of elements to be stored in the array :5\n",
    "Input 5 elements in the array :\n",
    "element - 0 : 25\n",
    "element - 1 : 47\n",
    "element - 2 : 42\n",
    "element - 3 : 56\n",
    "element - 4 : 32\n",
    "Expected Output:\n",
    "The Even elements are:\n",
    "42 56 32\n",
    "The Odd elements are :\n",
    "B\n",
    "25 47"
   ]
  },
  {
   "cell_type": "code",
   "execution_count": 6,
   "id": "4c78da30",
   "metadata": {},
   "outputs": [
    {
     "name": "stdout",
     "output_type": "stream",
     "text": [
      "The Even elements are: 42 56 32 \n",
      "The Odd elements are: 25 47 "
     ]
    }
   ],
   "source": [
    "int n = 5;\n",
    "int[] numbers = {25,47,42,56,32};\n",
    "\n",
    "int[] evenArray = new int[n];\n",
    "int[] oddArray = new int[n];\n",
    "int evenCount = 0;\n",
    "int oddCount = 0;\n",
    "\n",
    "for (int i = 0; i < n; i++)\n",
    "{\n",
    "    if (numbers[i] % 2 == 0)\n",
    "    {\n",
    "        evenArray[evenCount] = numbers[i];\n",
    "        evenCount++;\n",
    "    }\n",
    "    else\n",
    "    {\n",
    "        oddArray[oddCount] = numbers[i];\n",
    "        oddCount++;\n",
    "    }\n",
    "}\n",
    "\n",
    "Console.Write(\"The Even elements are: \");\n",
    "for (int i = 0; i < evenCount; i++)\n",
    "{\n",
    "    Console.Write(evenArray[i] + \" \");\n",
    "}\n",
    "\n",
    "Console.WriteLine();\n",
    "\n",
    "Console.Write(\"The Odd elements are: \");\n",
    "for (int i = 0; i < oddCount; i++)\n",
    "{\n",
    "    Console.Write(oddArray[i] + \" \");\n",
    "}"
   ]
  },
  {
   "cell_type": "markdown",
   "id": "328142ae",
   "metadata": {},
   "source": [
    "a. Write a function inside(x,y,x1,y1,x2,y2) that returns True or False\n",
    "dependingonwhetherthepoint(x,y)liesintherectanglewithlowerleft\n",
    "corner (x1,y1) and upper right corner (x2,y2).\n",
    ">>> inside(1,1,0,0,2,3)\n",
    "True\n",
    ">>> inside(-1,-1,0,0,2,3)\n",
    "False\n",
    "\n",
    "b. Use function inside()from part a. to write an expression that tests whether\n",
    "the point (1,1) lies in both of the following rectangles: one with lower left\n",
    "corner (0.3, 0.5) and upper right corner (1.1, 0.7) and the other with lower\n",
    "left corner (0.5, 0.2) and upper right corner (1.1, 2)."
   ]
  },
  {
   "cell_type": "code",
   "execution_count": 7,
   "id": "eec99f25",
   "metadata": {},
   "outputs": [
    {
     "name": "stdout",
     "output_type": "stream",
     "text": [
      "True\n",
      "False\n"
     ]
    }
   ],
   "source": [
    "//a.\n",
    "public static bool Inside(double x, double y, double x1, double y1, double x2, double y2)\n",
    "{\n",
    "    bool isInside = x >= x1 && x <= x2 && y >= y1 && y <= y2;\n",
    "    return isInside;\n",
    "}\n",
    "\n",
    "bool result1 = Inside(1, 1, 0, 0, 2, 3);\n",
    "Console.WriteLine(result1); \n",
    "\n",
    "bool result2 = Inside(-1, -1, 0, 0, 2, 3);\n",
    "Console.WriteLine(result2); \n"
   ]
  },
  {
   "cell_type": "code",
   "execution_count": 8,
   "id": "4c3747eb",
   "metadata": {},
   "outputs": [
    {
     "name": "stdout",
     "output_type": "stream",
     "text": [
      "False\r\n"
     ]
    }
   ],
   "source": [
    "//b.\n",
    "public static bool Inside(double x, double y, double x1, double y1, double x2, double y2)\n",
    "{\n",
    "    bool isInside = x >= x1 && x <= x2 && y >= y1 && y <= y2;\n",
    "    return isInside;\n",
    "}\n",
    "\n",
    "bool result1 = Inside(1, 1, 0.3, 0.5, 1.1, 0.7);\n",
    "bool result2 = Inside(1, 1, 0.5, 0.2, 1.1, 2);\n",
    "\n",
    "bool bothRectangles = result1 && result2;\n",
    "Console.WriteLine(bothRectangles);"
   ]
  },
  {
   "cell_type": "markdown",
   "id": "ad8d351e",
   "metadata": {},
   "source": [
    "6. You can turn a word into pig-Latin using the following two rules(simplified):\n",
    "• If the word starts with a consonant, move that letter to the end and append\n",
    "'ay'. For example, 'happy' becomes 'appyhay' and 'pencil' becomes 'encilpay'.\n",
    "• If the word starts with a vowel, simply append 'way' to the end of the word.\n",
    "For example, 'enter' becomes 'enterway' and 'other' becomes 'otherway' . For\n",
    "our purposes, there are 5 vowels: a, e, i, o, u (so we count y as a consonant).\n",
    "Write a function pig() that takes a word (i.e., a string) as input and returns its pigLatin form. Your function should still work if the input word contains upper case\n",
    "characters. Your output should always be lower case however.\n",
    ">>> pig('happy')\n",
    "'appyhay'\n",
    ">>> pig('Enter')\n",
    "'enterway'"
   ]
  },
  {
   "cell_type": "code",
   "execution_count": 2,
   "id": "005c2ef0",
   "metadata": {},
   "outputs": [
    {
     "name": "stdout",
     "output_type": "stream",
     "text": [
      "Happy\n",
      "appyhay\n"
     ]
    }
   ],
   "source": [
    "def pig(word):\n",
    "    vowels = ['a', 'e', 'i', 'o', 'u']\n",
    "    word = word.lower()  # Convert the word to lowercase\n",
    "\n",
    "    if word[0] in vowels:\n",
    "        pig_latin = word + 'way'\n",
    "    else:\n",
    "        pig_latin = word[1:] + word[0] + 'ay'\n",
    "\n",
    "    return pig_latin\n",
    "word = input()\n",
    "print(pig(word))"
   ]
  },
  {
   "cell_type": "markdown",
   "id": "e9a7da05",
   "metadata": {},
   "source": [
    "7. File bloodtype1.txt records blood-types of patients (A, B, AB, O or OO) at a clinic.\n",
    "Write a function bldcount() that reads the file with name name and reports (i.e.,\n",
    "prints) how many patients there are in each bloodtype.\n"
   ]
  },
  {
   "cell_type": "code",
   "execution_count": 18,
   "id": "47ebb809",
   "metadata": {},
   "outputs": [
    {
     "ename": "FileNotFoundError",
     "evalue": "[Errno 2] No such file or directory: 'bloodtype.txt'",
     "output_type": "error",
     "traceback": [
      "\u001b[1;31m---------------------------------------------------------------------------\u001b[0m",
      "\u001b[1;31mFileNotFoundError\u001b[0m                         Traceback (most recent call last)",
      "Cell \u001b[1;32mIn[18], line 16\u001b[0m\n\u001b[0;32m     12\u001b[0m         \u001b[38;5;28;01melse\u001b[39;00m:\n\u001b[0;32m     13\u001b[0m             \u001b[38;5;28mprint\u001b[39m(\u001b[38;5;124mf\u001b[39m\u001b[38;5;124m\"\u001b[39m\u001b[38;5;124mThere are \u001b[39m\u001b[38;5;132;01m{\u001b[39;00mcount\u001b[38;5;132;01m}\u001b[39;00m\u001b[38;5;124m patients of blood type \u001b[39m\u001b[38;5;132;01m{\u001b[39;00mblood_type\u001b[38;5;132;01m}\u001b[39;00m\u001b[38;5;124m.\u001b[39m\u001b[38;5;124m\"\u001b[39m)\n\u001b[1;32m---> 16\u001b[0m \u001b[43mbldcount\u001b[49m\u001b[43m(\u001b[49m\u001b[38;5;124;43m'\u001b[39;49m\u001b[38;5;124;43mbloodtype.txt\u001b[39;49m\u001b[38;5;124;43m'\u001b[39;49m\u001b[43m)\u001b[49m\n",
      "Cell \u001b[1;32mIn[18], line 4\u001b[0m, in \u001b[0;36mbldcount\u001b[1;34m(filename)\u001b[0m\n\u001b[0;32m      1\u001b[0m \u001b[38;5;28;01mdef\u001b[39;00m \u001b[38;5;21mbldcount\u001b[39m(filename):\n\u001b[0;32m      2\u001b[0m     blood_count \u001b[38;5;241m=\u001b[39m {\u001b[38;5;124m'\u001b[39m\u001b[38;5;124mA\u001b[39m\u001b[38;5;124m'\u001b[39m: \u001b[38;5;241m0\u001b[39m, \u001b[38;5;124m'\u001b[39m\u001b[38;5;124mB\u001b[39m\u001b[38;5;124m'\u001b[39m: \u001b[38;5;241m0\u001b[39m, \u001b[38;5;124m'\u001b[39m\u001b[38;5;124mAB\u001b[39m\u001b[38;5;124m'\u001b[39m: \u001b[38;5;241m0\u001b[39m, \u001b[38;5;124m'\u001b[39m\u001b[38;5;124mO\u001b[39m\u001b[38;5;124m'\u001b[39m: \u001b[38;5;241m0\u001b[39m, \u001b[38;5;124m'\u001b[39m\u001b[38;5;124mOO\u001b[39m\u001b[38;5;124m'\u001b[39m: \u001b[38;5;241m0\u001b[39m}\n\u001b[1;32m----> 4\u001b[0m     \u001b[38;5;28;01mwith\u001b[39;00m \u001b[38;5;28;43mopen\u001b[39;49m\u001b[43m(\u001b[49m\u001b[43mfilename\u001b[49m\u001b[43m,\u001b[49m\u001b[43m \u001b[49m\u001b[38;5;124;43m'\u001b[39;49m\u001b[38;5;124;43mr\u001b[39;49m\u001b[38;5;124;43m'\u001b[39;49m\u001b[43m)\u001b[49m \u001b[38;5;28;01mas\u001b[39;00m file:\n\u001b[0;32m      5\u001b[0m         \u001b[38;5;28;01mfor\u001b[39;00m line \u001b[38;5;129;01min\u001b[39;00m file:\n\u001b[0;32m      6\u001b[0m             blood_type \u001b[38;5;241m=\u001b[39m line\u001b[38;5;241m.\u001b[39mstrip()\n",
      "File \u001b[1;32m~\\anaconda3\\lib\\site-packages\\IPython\\core\\interactiveshell.py:282\u001b[0m, in \u001b[0;36m_modified_open\u001b[1;34m(file, *args, **kwargs)\u001b[0m\n\u001b[0;32m    275\u001b[0m \u001b[38;5;28;01mif\u001b[39;00m file \u001b[38;5;129;01min\u001b[39;00m {\u001b[38;5;241m0\u001b[39m, \u001b[38;5;241m1\u001b[39m, \u001b[38;5;241m2\u001b[39m}:\n\u001b[0;32m    276\u001b[0m     \u001b[38;5;28;01mraise\u001b[39;00m \u001b[38;5;167;01mValueError\u001b[39;00m(\n\u001b[0;32m    277\u001b[0m         \u001b[38;5;124mf\u001b[39m\u001b[38;5;124m\"\u001b[39m\u001b[38;5;124mIPython won\u001b[39m\u001b[38;5;124m'\u001b[39m\u001b[38;5;124mt let you open fd=\u001b[39m\u001b[38;5;132;01m{\u001b[39;00mfile\u001b[38;5;132;01m}\u001b[39;00m\u001b[38;5;124m by default \u001b[39m\u001b[38;5;124m\"\u001b[39m\n\u001b[0;32m    278\u001b[0m         \u001b[38;5;124m\"\u001b[39m\u001b[38;5;124mas it is likely to crash IPython. If you know what you are doing, \u001b[39m\u001b[38;5;124m\"\u001b[39m\n\u001b[0;32m    279\u001b[0m         \u001b[38;5;124m\"\u001b[39m\u001b[38;5;124myou can use builtins\u001b[39m\u001b[38;5;124m'\u001b[39m\u001b[38;5;124m open.\u001b[39m\u001b[38;5;124m\"\u001b[39m\n\u001b[0;32m    280\u001b[0m     )\n\u001b[1;32m--> 282\u001b[0m \u001b[38;5;28;01mreturn\u001b[39;00m io_open(file, \u001b[38;5;241m*\u001b[39margs, \u001b[38;5;241m*\u001b[39m\u001b[38;5;241m*\u001b[39mkwargs)\n",
      "\u001b[1;31mFileNotFoundError\u001b[0m: [Errno 2] No such file or directory: 'bloodtype.txt'"
     ]
    }
   ],
   "source": [
    "def bldcount(filename):\n",
    "    blood_count = {'A': 0, 'B': 0, 'AB': 0, 'O': 0, 'OO': 0}\n",
    "\n",
    "    with open(filename, 'r') as file:\n",
    "        for line in file:\n",
    "            blood_type = line.strip()\n",
    "            blood_count[blood_type] += 1\n",
    "\n",
    "    for blood_type, count in blood_count.items():\n",
    "        if count == 1:\n",
    "            print(f\"There is one patient of blood type {blood_type}.\")\n",
    "        else:\n",
    "            print(f\"There are {count} patients of blood type {blood_type}.\")\n",
    "\n",
    "\n",
    "bldcount('bloodtype.txt')\n",
    "#Since I couldn't access the file,the output results in an error..."
   ]
  },
  {
   "cell_type": "markdown",
   "id": "e612299d",
   "metadata": {},
   "source": [
    "8. Write a function curconv() that takes as input:\n",
    "    1. a currency represented using a string (e.g., 'JPY' for the Japanese Yen or'EUR' for the Euro)\n",
    "    2. an amount and then converts and returns the amount in US dollars.\n"
   ]
  },
  {
   "cell_type": "code",
   "execution_count": 6,
   "id": "3e890c00",
   "metadata": {},
   "outputs": [
    {
     "name": "stdout",
     "output_type": "stream",
     "text": [
      "122.96544\n",
      "1.241401\n"
     ]
    }
   ],
   "source": [
    "def curconv(currency, amount):\n",
    "    with open('currencies.txt', 'r') as file:\n",
    "        for line in file:\n",
    "            parts = line.strip().split()\n",
    "            if parts[0] == currency:\n",
    "                rate = float(parts[1])\n",
    "                usd_amount = amount * rate\n",
    "                return usd_amount\n",
    "    return None\n",
    "\n",
    "print(curconv('EUR', 100))  \n",
    "print(curconv('JPY', 100))  \n",
    "\n",
    "# https://stackoverflow.com/questions/13013734/string-strip-in-python"
   ]
  },
  {
   "cell_type": "markdown",
   "id": "543f5899",
   "metadata": {},
   "source": [
    "9. Each of the following will cause an exception (an error). Identify what type of\n",
    "exception each will cause."
   ]
  },
  {
   "cell_type": "code",
   "execution_count": 8,
   "id": "e9aad7ee",
   "metadata": {},
   "outputs": [
    {
     "name": "stdout",
     "output_type": "stream",
     "text": [
      "An error occurred: TypeError\n"
     ]
    }
   ],
   "source": [
    "#https://stackoverflow.com/questions/18176602/how-to-get-the-name-of-an-exception-that-was-caught-in-python\n",
    "try:\n",
    "    result = 6 + 'a'\n",
    "except Exception as e:\n",
    "    print(\"An error occurred:\", type(e).__name__)"
   ]
  },
  {
   "cell_type": "code",
   "execution_count": 9,
   "id": "51dcaa70",
   "metadata": {},
   "outputs": [
    {
     "name": "stdout",
     "output_type": "stream",
     "text": [
      "An error occurred: IndexError\n"
     ]
    }
   ],
   "source": [
    "try:\n",
    "    list = [0,1,2,3,4]\n",
    "    result = list[7]\n",
    "except Exception as e:\n",
    "    print(\"An error occurred:\", type(e).__name__)"
   ]
  },
  {
   "cell_type": "code",
   "execution_count": 13,
   "id": "dc07e4dd",
   "metadata": {},
   "outputs": [
    {
     "name": "stdout",
     "output_type": "stream",
     "text": [
      "An error occurred: ValueError\n"
     ]
    }
   ],
   "source": [
    "import math\n",
    "\n",
    "try:\n",
    "    x = math.sqrt(-1.0)\n",
    "except Exception as e:\n",
    "    print(\"An error occurred:\", type(e).__name__)"
   ]
  },
  {
   "cell_type": "code",
   "execution_count": 14,
   "id": "feefae54",
   "metadata": {},
   "outputs": [
    {
     "name": "stdout",
     "output_type": "stream",
     "text": [
      "An error occurred: NameError\n"
     ]
    }
   ],
   "source": [
    "try:\n",
    "    print(x)\n",
    "except Exception as e:\n",
    "    print(\"An error occurred:\", type(e).__name__)"
   ]
  },
  {
   "cell_type": "code",
   "execution_count": 15,
   "id": "a7485ba9",
   "metadata": {},
   "outputs": [
    {
     "name": "stdout",
     "output_type": "stream",
     "text": [
      "An error occurred: FileNotFoundError\n"
     ]
    }
   ],
   "source": [
    "try:\n",
    "    file = open(\"aakash.txt\", \"r\")\n",
    "except Exception as e:\n",
    "    print(\"An error occurred:\", type(e).__name__)"
   ]
  },
  {
   "cell_type": "markdown",
   "id": "98d2f29b",
   "metadata": {},
   "source": [
    "10. Encryption is the process of hiding the meaning of a text by substituting letters in the\n",
    "message with other letters, according to some system. If the process is successful, no\n",
    "one but the intended recipient can understand the encrypted message. Cryptanalysis\n",
    "refers to attempts to undo the encryption, even if some details of the encryption are\n",
    "unknown (for example, if an encrypted message has been intercepted). The first step\n",
    "of cryptanalysis is often to build up a table of letter frequencies in the encrypted text.\n",
    "Assume that the string letters is already defined as\n",
    "'abcdefghijklmnopqrstuvwxyz'. Write a function called frequencies()\n",
    "that takes a string as its only parameter, and returns a list of integers, showing the\n",
    "number of times each character appears in the text. Your function may ignore any\n",
    "characters that are not in letters.\n",
    ">>> frequencies('The quick red fox got bored and went home.')\n",
    "[1, 1, 1, 3, 5, 1, 1, 2, 1, 0, 1, 0, 1, 2, 4, 0, 1, 2, 0, 2,\n",
    "1, 0, 1, 1, 0, 0]"
   ]
  },
  {
   "cell_type": "code",
   "execution_count": 17,
   "id": "908abd4a",
   "metadata": {},
   "outputs": [
    {
     "data": {
      "text/plain": [
       "[3, 0, 0, 0, 0, 0, 0, 1, 0, 0, 1, 0, 0, 0, 0, 0, 0, 0, 1, 0, 0, 0, 0, 0, 0, 0]"
      ]
     },
     "execution_count": 17,
     "metadata": {},
     "output_type": "execute_result"
    }
   ],
   "source": [
    "def frequencies(text):\n",
    "    letters = 'abcdefghijklmnopqrstuvwxyz'\n",
    "    freq_list = [0] * 26\n",
    "\n",
    "    for char in text:\n",
    "        char = char.lower()\n",
    "        if char in letters:\n",
    "            index = letters.index(char)\n",
    "            freq_list[index] += 1\n",
    "\n",
    "    return freq_list\n",
    "frequencies(\"aakash\")"
   ]
  }
 ],
 "metadata": {
  "kernelspec": {
   "display_name": "Python 3 (ipykernel)",
   "language": "python",
   "name": "python3"
  },
  "language_info": {
   "codemirror_mode": {
    "name": "ipython",
    "version": 3
   },
   "file_extension": ".py",
   "mimetype": "text/x-python",
   "name": "python",
   "nbconvert_exporter": "python",
   "pygments_lexer": "ipython3",
   "version": "3.10.9"
  }
 },
 "nbformat": 4,
 "nbformat_minor": 5
}
